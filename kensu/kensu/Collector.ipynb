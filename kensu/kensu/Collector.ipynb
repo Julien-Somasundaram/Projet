{
 "cells": [
  {
   "cell_type": "markdown",
   "metadata": {},
   "source": [
    "# Collector"
   ]
  },
  {
   "cell_type": "markdown",
   "metadata": {},
   "source": [
    "## Important Library"
   ]
  },
  {
   "cell_type": "code",
   "execution_count": 1,
   "metadata": {},
   "outputs": [],
   "source": [
    "import json \n",
    "import csv\n",
    "import os\n",
    "import shutil \n",
    "import re"
   ]
  },
  {
   "cell_type": "markdown",
   "metadata": {},
   "source": [
    "## JSON Creation"
   ]
  },
  {
   "cell_type": "markdown",
   "metadata": {},
   "source": [
    " Création du fichier JSON à partir des niveaux de Journalisation"
   ]
  },
  {
   "cell_type": "code",
   "execution_count": 2,
   "metadata": {
    "scrolled": false
   },
   "outputs": [
    {
     "name": "stdout",
     "output_type": "stream",
     "text": [
      "Name of the log ?\n",
      "log.log\n"
     ]
    }
   ],
   "source": [
    "w, c, e, d, ns, s = [],[],[],[],[],0  #Initialisation Variable(Warning...)\n",
    "\n",
    "log_file = input('Name of the log ?\\n')\n",
    "while not os.path.exists(log_file): \n",
    "    log_file = input('Error, file not found\\n') #Recuperation du fichier log\n",
    "\n",
    "with open(log_file , 'r') as log : \n",
    "    for line in log.readlines() :  #Lecture du fichier\n",
    "        \n",
    "        if re.search('INFO', line) : s += 1    #Compte lignes avec le niveau INFO\n",
    "            \n",
    "        elif re.search('WARNING', line) :  w.append(line.strip(\"\\n\")) #Note les lignes avec le niveau WARNING\n",
    "            \n",
    "        elif re.search('CRITICAL', line) : c.append(line.strip(\"\\n\")) #Note les lignes avec le niveau CRITICAL\n",
    "\n",
    "        elif re.search('ERROR', line) : e.append(line.strip(\"\\n\")) #Note les lignes avec le niveau ERROR\n",
    "\n",
    "        elif re.search('DEBUG', line) :  d.append(line.strip(\"\\n\")) #Note les lignes avec le niveau DEBUG\n",
    "\n",
    "        else : ns.append(line)\n",
    "            \n",
    "data = {\"INFO\" : s,\n",
    "        \"WARNING\" : w,\n",
    "        \"CRITICAL\" : c,\n",
    "        \"ERROR\" : e,\n",
    "        \"DEBUG\" : d,\n",
    "        \"NOTSET\" : ns}   #Créer le dictionnaire avec les valeurs ecrites\n",
    "\n",
    "with open(\"log_Niveaux.json\", \"w\") as log_json : \n",
    "    log_json.write(json.dumps(data, indent = 4))  #Ecriture du fichier JSON a partir du dictionnaire data\n",
    "    \n",
    "file = os.getcwd()    #Je recupère le repertoire dans lequel je suis\n",
    "\n",
    "if os.path.exists(file + '\\Client\\log_Niveaux.json') : \n",
    "    os.remove(file + '\\Client\\log_Niveaux.json')\n",
    "    shutil.move(file + '\\\\log_Niveaux.json' , \n",
    "                file + '\\\\Client')     #Si le fichier existe, il est supprimer, puis le nouveau est ajouté\n",
    "else : \n",
    "    shutil.move(file + '\\\\log_Niveaux.json' , \n",
    "                file + '\\\\Client')    #sinon le fichier est ajouté\n"
   ]
  },
  {
   "cell_type": "markdown",
   "metadata": {},
   "source": [
    "Création du fichier JSON à partir des valeurs"
   ]
  },
  {
   "cell_type": "code",
   "execution_count": 3,
   "metadata": {},
   "outputs": [
    {
     "name": "stdout",
     "output_type": "stream",
     "text": [
      "14\n",
      "écrit\n"
     ]
    }
   ],
   "source": [
    "def valeur(fichier_log):\n",
    "    import re, os\n",
    "    \n",
    "   \n",
    "    exe=[] #va contenir tout le fichier log dans un tableau (1 ligne = 1 case)\n",
    "    u=0\n",
    "    dico_test = {}\n",
    "    kle=0\n",
    "    with open (fichier_log) as log :   #j'ouvre le fichierr de log\n",
    "        \n",
    "        for line in log.readlines() :\n",
    "            \n",
    "            \n",
    "            if re.search(\"execution\",line):  #recherche des ligne ou il y a execution car c'est là où il y a les valeurs\n",
    "                dico_test[kle]={}\n",
    "                sep = line.split(\"{\") # ne récupere que la partie avec les id et les valeurs\n",
    "                exe.append(sep) # exe[u][0] = INFO:root:New statistics linked to the execution: \n",
    "                                # exe[u][1] = toutes valeurs\n",
    "                kle+=1\n",
    " \n",
    "        \n",
    "        print(kle)\n",
    "        while u < len(exe):\n",
    "            ide = [] # va contenir les id des valeurs numériques\n",
    "            donnee = [] # va contenir les valeurs numériques\n",
    "            test2 = exe[u][1].split(\",\") # découpage après chaque valeur\n",
    "\n",
    "            for j in test2:\n",
    "                test= j.split(\":\") # séparation de l'id et de la valeur\n",
    "                ide.append(test[0]) # ajout de l'id dans ide \n",
    "                donnee.append(test[1]) # ajuot de la valeur dans donnee\n",
    "                tmp = donnee[len(donnee)-1].split(\"}\") # supprime la fin de la dernière ligne pour avoir que des chiffres\n",
    "                donnee[len(donnee)-1] = tmp[0] # remplacement du dernier indice pour avoir que des chiffres\n",
    "                \n",
    "            #print(test2)\n",
    "            \n",
    "            dico_test[u]=dict(zip(ide,donnee))\n",
    "            u+=1\n",
    "        \n",
    "        with open (\"log_INFO_Valeurs.json\" , \"a\" ) as data_file : \n",
    "                                             # PB ! Tout n'est pas ajouté dans le dico :(\n",
    "            data_file.write(json.dumps(dico_test, indent=4)) #écriture dans le json\n",
    "        print(\"écrit\")\n",
    "        \n",
    "    if os.path.exists(file + '\\Client\\log_INFO_Valeurs.json') : \n",
    "        os.remove(file + '\\Client\\log_INFO_Valeurs.json')\n",
    "        shutil.move(file + '\\\\log_INFO_Valeurs.json' , \n",
    "                    file + '\\\\Client')     #Si le fichier existe, il est supprimer, puis le nouveau est ajouté\n",
    "    else : \n",
    "        shutil.move(file + '\\\\log_INFO_Valeurs.json' , \n",
    "                    file + '\\\\Client')    #sinon le fichier est ajouté\n",
    "\n",
    "\n",
    "valeur(\"log.log\")"
   ]
  },
  {
   "cell_type": "markdown",
   "metadata": {},
   "source": [
    "## Recuperation fichiers en .csv"
   ]
  },
  {
   "cell_type": "code",
   "execution_count": 4,
   "metadata": {},
   "outputs": [
    {
     "name": "stdout",
     "output_type": "stream",
     "text": [
      "Name of the .csv ?\n",
      "cleaned_data.csv\n"
     ]
    }
   ],
   "source": [
    "csv_file = input('Name of the .csv ?\\n')\n",
    "while not os.path.exists(csv_file): \n",
    "    csv_file = input('Error, file not found\\n') #Recuperation du fichier .csv\n",
    "    \n",
    "    \n",
    "data = {}  #Initialisation du dictionnaire qui servira pour l'ecriture du JSON\n",
    "with open (csv_file) as csv_data : \n",
    "        csv_reader = csv.DictReader(csv_data)  #Lecture du fichier .csv,\n",
    "        \n",
    "        \n",
    "        for rows in csv_reader :\n",
    "            id = rows['id']     #Creer l'id du dictionnaire data\n",
    "            data[id] = rows     #Associe à le clé id du dictionnaire data sa valeur\n",
    "            \n",
    "            \n",
    "with open (\"DataCSV.json\" , \"w\" ) as data_file : \n",
    "    data_file.write(json.dumps(data, indent=4)) #Ecriture du fichier json a partir du dictionnaire data\n",
    "    \n",
    "file = os.getcwd()\n",
    "if os.path.exists(file + '\\Client\\DataCSV.json') : \n",
    "    os.remove(file + '\\Client\\DataCSV.json')\n",
    "    shutil.move(file + '\\\\DataCSV.json' , \n",
    "                file + '\\\\Client')  \n",
    "                                #Si le fichier existe, il est supprimer, puis le nouveau est ajouté\n",
    "else : \n",
    "    shutil.move(file + '\\\\DataCSV.json' , \n",
    "                file + '\\\\Client')\n",
    "                                #sinon le fichier est ajouté"
   ]
  }
 ],
 "metadata": {
  "kernelspec": {
   "display_name": "Python 3",
   "language": "python",
   "name": "python3"
  },
  "language_info": {
   "codemirror_mode": {
    "name": "ipython",
    "version": 3
   },
   "file_extension": ".py",
   "mimetype": "text/x-python",
   "name": "python",
   "nbconvert_exporter": "python",
   "pygments_lexer": "ipython3",
   "version": "3.8.5"
  }
 },
 "nbformat": 4,
 "nbformat_minor": 4
}
